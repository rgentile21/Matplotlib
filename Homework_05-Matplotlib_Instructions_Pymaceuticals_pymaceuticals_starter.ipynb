{
 "cells": [
  {
   "cell_type": "markdown",
   "metadata": {},
   "source": [
    "## Observations and Insights "
   ]
  },
  {
   "cell_type": "code",
   "execution_count": null,
   "metadata": {},
   "outputs": [],
   "source": [
    "# The relationship between the Mouse Weight and Tumor Volume is strong as the Correlation Coefficient is 0.84.\n",
    "# The Tumor Volume for Capomulin and Ramicane on Average are 10 (MM3) lower than the other Drug Regimens.\n",
    "# Capomulin and Ramicane also had the most Drug Trials indicating researchers noted the success of those trials and completed more studies to reinforce their findings. \n"
   ]
  },
  {
   "cell_type": "markdown",
   "metadata": {},
   "source": []
  },
  {
   "cell_type": "code",
   "execution_count": 17,
   "metadata": {
    "scrolled": true
   },
   "outputs": [
    {
     "data": {
      "text/html": [
       "<div>\n",
       "<style scoped>\n",
       "    .dataframe tbody tr th:only-of-type {\n",
       "        vertical-align: middle;\n",
       "    }\n",
       "\n",
       "    .dataframe tbody tr th {\n",
       "        vertical-align: top;\n",
       "    }\n",
       "\n",
       "    .dataframe thead th {\n",
       "        text-align: right;\n",
       "    }\n",
       "</style>\n",
       "<table border=\"1\" class=\"dataframe\">\n",
       "  <thead>\n",
       "    <tr style=\"text-align: right;\">\n",
       "      <th></th>\n",
       "      <th>Mouse_ID</th>\n",
       "      <th>Drug Regimen</th>\n",
       "      <th>Sex</th>\n",
       "      <th>Age_months</th>\n",
       "      <th>Weight (g)</th>\n",
       "      <th>Timepoint</th>\n",
       "      <th>Tumor Volume (mm3)</th>\n",
       "      <th>Metastatic Sites</th>\n",
       "    </tr>\n",
       "  </thead>\n",
       "  <tbody>\n",
       "    <tr>\n",
       "      <th>0</th>\n",
       "      <td>a203</td>\n",
       "      <td>Infubinol</td>\n",
       "      <td>Female</td>\n",
       "      <td>20</td>\n",
       "      <td>23</td>\n",
       "      <td>0</td>\n",
       "      <td>45.000000</td>\n",
       "      <td>0</td>\n",
       "    </tr>\n",
       "    <tr>\n",
       "      <th>1</th>\n",
       "      <td>a203</td>\n",
       "      <td>Infubinol</td>\n",
       "      <td>Female</td>\n",
       "      <td>20</td>\n",
       "      <td>23</td>\n",
       "      <td>5</td>\n",
       "      <td>48.508468</td>\n",
       "      <td>0</td>\n",
       "    </tr>\n",
       "    <tr>\n",
       "      <th>2</th>\n",
       "      <td>a203</td>\n",
       "      <td>Infubinol</td>\n",
       "      <td>Female</td>\n",
       "      <td>20</td>\n",
       "      <td>23</td>\n",
       "      <td>10</td>\n",
       "      <td>51.852437</td>\n",
       "      <td>1</td>\n",
       "    </tr>\n",
       "    <tr>\n",
       "      <th>3</th>\n",
       "      <td>a203</td>\n",
       "      <td>Infubinol</td>\n",
       "      <td>Female</td>\n",
       "      <td>20</td>\n",
       "      <td>23</td>\n",
       "      <td>15</td>\n",
       "      <td>52.777870</td>\n",
       "      <td>1</td>\n",
       "    </tr>\n",
       "    <tr>\n",
       "      <th>4</th>\n",
       "      <td>a203</td>\n",
       "      <td>Infubinol</td>\n",
       "      <td>Female</td>\n",
       "      <td>20</td>\n",
       "      <td>23</td>\n",
       "      <td>20</td>\n",
       "      <td>55.173336</td>\n",
       "      <td>1</td>\n",
       "    </tr>\n",
       "  </tbody>\n",
       "</table>\n",
       "</div>"
      ],
      "text/plain": [
       "  Mouse_ID Drug Regimen     Sex  Age_months  Weight (g)  Timepoint  \\\n",
       "0     a203    Infubinol  Female          20          23          0   \n",
       "1     a203    Infubinol  Female          20          23          5   \n",
       "2     a203    Infubinol  Female          20          23         10   \n",
       "3     a203    Infubinol  Female          20          23         15   \n",
       "4     a203    Infubinol  Female          20          23         20   \n",
       "\n",
       "   Tumor Volume (mm3)  Metastatic Sites  \n",
       "0           45.000000                 0  \n",
       "1           48.508468                 0  \n",
       "2           51.852437                 1  \n",
       "3           52.777870                 1  \n",
       "4           55.173336                 1  "
      ]
     },
     "execution_count": 17,
     "metadata": {},
     "output_type": "execute_result"
    }
   ],
   "source": [
    "# Dependencies and Setup\n",
    "import matplotlib.pyplot as plt \n",
    "import pandas as pd\n",
    "import scipy.stats as st\n",
    "import numpy as np\n",
    "from scipy.stats import linregress\n",
    "\n",
    "# Study data files\n",
    "mouse_metadata_path = \"mouse_metadata.csv\"\n",
    "study_results_path = \"study_results.csv\"\n",
    "\n",
    "# Read the mouse data and the study results\n",
    "mouse_metadata = pd.read_csv(mouse_metadata_path)\n",
    "study_results = pd.read_csv(study_results_path)\n",
    "\n",
    "# Combine the data into a single dataset\n",
    "mousestud = pd.merge(mouse_metadata, study_results, on='Mouse_ID')\n",
    "mousestud.head()"
   ]
  },
  {
   "cell_type": "code",
   "execution_count": null,
   "metadata": {
    "scrolled": true
   },
   "outputs": [],
   "source": []
  },
  {
   "cell_type": "code",
   "execution_count": 3,
   "metadata": {},
   "outputs": [
    {
     "data": {
      "text/html": [
       "<div>\n",
       "<style scoped>\n",
       "    .dataframe tbody tr th:only-of-type {\n",
       "        vertical-align: middle;\n",
       "    }\n",
       "\n",
       "    .dataframe tbody tr th {\n",
       "        vertical-align: top;\n",
       "    }\n",
       "\n",
       "    .dataframe thead th {\n",
       "        text-align: right;\n",
       "    }\n",
       "</style>\n",
       "<table border=\"1\" class=\"dataframe\">\n",
       "  <thead>\n",
       "    <tr style=\"text-align: right;\">\n",
       "      <th></th>\n",
       "      <th>Total # of Mice</th>\n",
       "    </tr>\n",
       "  </thead>\n",
       "  <tbody>\n",
       "    <tr>\n",
       "      <th>0</th>\n",
       "      <td>249</td>\n",
       "    </tr>\n",
       "  </tbody>\n",
       "</table>\n",
       "</div>"
      ],
      "text/plain": [
       "   Total # of Mice\n",
       "0              249"
      ]
     },
     "execution_count": 3,
     "metadata": {},
     "output_type": "execute_result"
    }
   ],
   "source": [
    "# Checking the number of mice in the DataFrame.\n",
    "mice = len(mousestud['Mouse_ID'].unique())\n",
    "\n",
    "mice_df = pd.DataFrame({\"Total # of Mice\": [len(mousestud.Mouse_ID.unique())]})\n",
    "mice_df"
   ]
  },
  {
   "cell_type": "code",
   "execution_count": 2,
   "metadata": {},
   "outputs": [
    {
     "data": {
      "text/html": [
       "<div>\n",
       "<style scoped>\n",
       "    .dataframe tbody tr th:only-of-type {\n",
       "        vertical-align: middle;\n",
       "    }\n",
       "\n",
       "    .dataframe tbody tr th {\n",
       "        vertical-align: top;\n",
       "    }\n",
       "\n",
       "    .dataframe thead th {\n",
       "        text-align: right;\n",
       "    }\n",
       "</style>\n",
       "<table border=\"1\" class=\"dataframe\">\n",
       "  <thead>\n",
       "    <tr style=\"text-align: right;\">\n",
       "      <th></th>\n",
       "      <th>Mouse_ID</th>\n",
       "      <th>Drug Regimen</th>\n",
       "      <th>Sex</th>\n",
       "      <th>Age_months</th>\n",
       "      <th>Weight (g)</th>\n",
       "      <th>Timepoint</th>\n",
       "      <th>Tumor Volume (mm3)</th>\n",
       "      <th>Metastatic Sites</th>\n",
       "    </tr>\n",
       "  </thead>\n",
       "  <tbody>\n",
       "    <tr>\n",
       "      <th>587</th>\n",
       "      <td>g989</td>\n",
       "      <td>Propriva</td>\n",
       "      <td>Female</td>\n",
       "      <td>21</td>\n",
       "      <td>26</td>\n",
       "      <td>0</td>\n",
       "      <td>45.000000</td>\n",
       "      <td>0</td>\n",
       "    </tr>\n",
       "    <tr>\n",
       "      <th>589</th>\n",
       "      <td>g989</td>\n",
       "      <td>Propriva</td>\n",
       "      <td>Female</td>\n",
       "      <td>21</td>\n",
       "      <td>26</td>\n",
       "      <td>5</td>\n",
       "      <td>47.570392</td>\n",
       "      <td>0</td>\n",
       "    </tr>\n",
       "    <tr>\n",
       "      <th>591</th>\n",
       "      <td>g989</td>\n",
       "      <td>Propriva</td>\n",
       "      <td>Female</td>\n",
       "      <td>21</td>\n",
       "      <td>26</td>\n",
       "      <td>10</td>\n",
       "      <td>49.880528</td>\n",
       "      <td>0</td>\n",
       "    </tr>\n",
       "    <tr>\n",
       "      <th>593</th>\n",
       "      <td>g989</td>\n",
       "      <td>Propriva</td>\n",
       "      <td>Female</td>\n",
       "      <td>21</td>\n",
       "      <td>26</td>\n",
       "      <td>15</td>\n",
       "      <td>53.442020</td>\n",
       "      <td>0</td>\n",
       "    </tr>\n",
       "    <tr>\n",
       "      <th>595</th>\n",
       "      <td>g989</td>\n",
       "      <td>Propriva</td>\n",
       "      <td>Female</td>\n",
       "      <td>21</td>\n",
       "      <td>26</td>\n",
       "      <td>20</td>\n",
       "      <td>54.657650</td>\n",
       "      <td>1</td>\n",
       "    </tr>\n",
       "  </tbody>\n",
       "</table>\n",
       "</div>"
      ],
      "text/plain": [
       "    Mouse_ID Drug Regimen     Sex  Age_months  Weight (g)  Timepoint  \\\n",
       "587     g989     Propriva  Female          21          26          0   \n",
       "589     g989     Propriva  Female          21          26          5   \n",
       "591     g989     Propriva  Female          21          26         10   \n",
       "593     g989     Propriva  Female          21          26         15   \n",
       "595     g989     Propriva  Female          21          26         20   \n",
       "\n",
       "     Tumor Volume (mm3)  Metastatic Sites  \n",
       "587           45.000000                 0  \n",
       "589           47.570392                 0  \n",
       "591           49.880528                 0  \n",
       "593           53.442020                 0  \n",
       "595           54.657650                 1  "
      ]
     },
     "execution_count": 2,
     "metadata": {},
     "output_type": "execute_result"
    }
   ],
   "source": [
    "# Getting the duplicate mice by ID number that shows up for Mouse ID and Timepoint. \n",
    "duplicateRowsDF = mousestud[mousestud.duplicated(['Mouse_ID', 'Timepoint'])]\n",
    "duplicateRowsDF"
   ]
  },
  {
   "cell_type": "code",
   "execution_count": 3,
   "metadata": {},
   "outputs": [
    {
     "data": {
      "text/html": [
       "<div>\n",
       "<style scoped>\n",
       "    .dataframe tbody tr th:only-of-type {\n",
       "        vertical-align: middle;\n",
       "    }\n",
       "\n",
       "    .dataframe tbody tr th {\n",
       "        vertical-align: top;\n",
       "    }\n",
       "\n",
       "    .dataframe thead th {\n",
       "        text-align: right;\n",
       "    }\n",
       "</style>\n",
       "<table border=\"1\" class=\"dataframe\">\n",
       "  <thead>\n",
       "    <tr style=\"text-align: right;\">\n",
       "      <th></th>\n",
       "      <th>Mouse_ID</th>\n",
       "      <th>Drug Regimen</th>\n",
       "      <th>Sex</th>\n",
       "      <th>Age_months</th>\n",
       "      <th>Weight (g)</th>\n",
       "      <th>Timepoint</th>\n",
       "      <th>Tumor Volume (mm3)</th>\n",
       "      <th>Metastatic Sites</th>\n",
       "    </tr>\n",
       "  </thead>\n",
       "  <tbody>\n",
       "    <tr>\n",
       "      <th>587</th>\n",
       "      <td>g989</td>\n",
       "      <td>Propriva</td>\n",
       "      <td>Female</td>\n",
       "      <td>21</td>\n",
       "      <td>26</td>\n",
       "      <td>0</td>\n",
       "      <td>45.000000</td>\n",
       "      <td>0</td>\n",
       "    </tr>\n",
       "    <tr>\n",
       "      <th>589</th>\n",
       "      <td>g989</td>\n",
       "      <td>Propriva</td>\n",
       "      <td>Female</td>\n",
       "      <td>21</td>\n",
       "      <td>26</td>\n",
       "      <td>5</td>\n",
       "      <td>47.570392</td>\n",
       "      <td>0</td>\n",
       "    </tr>\n",
       "    <tr>\n",
       "      <th>591</th>\n",
       "      <td>g989</td>\n",
       "      <td>Propriva</td>\n",
       "      <td>Female</td>\n",
       "      <td>21</td>\n",
       "      <td>26</td>\n",
       "      <td>10</td>\n",
       "      <td>49.880528</td>\n",
       "      <td>0</td>\n",
       "    </tr>\n",
       "    <tr>\n",
       "      <th>593</th>\n",
       "      <td>g989</td>\n",
       "      <td>Propriva</td>\n",
       "      <td>Female</td>\n",
       "      <td>21</td>\n",
       "      <td>26</td>\n",
       "      <td>15</td>\n",
       "      <td>53.442020</td>\n",
       "      <td>0</td>\n",
       "    </tr>\n",
       "    <tr>\n",
       "      <th>595</th>\n",
       "      <td>g989</td>\n",
       "      <td>Propriva</td>\n",
       "      <td>Female</td>\n",
       "      <td>21</td>\n",
       "      <td>26</td>\n",
       "      <td>20</td>\n",
       "      <td>54.657650</td>\n",
       "      <td>1</td>\n",
       "    </tr>\n",
       "  </tbody>\n",
       "</table>\n",
       "</div>"
      ],
      "text/plain": [
       "    Mouse_ID Drug Regimen     Sex  Age_months  Weight (g)  Timepoint  \\\n",
       "587     g989     Propriva  Female          21          26          0   \n",
       "589     g989     Propriva  Female          21          26          5   \n",
       "591     g989     Propriva  Female          21          26         10   \n",
       "593     g989     Propriva  Female          21          26         15   \n",
       "595     g989     Propriva  Female          21          26         20   \n",
       "\n",
       "     Tumor Volume (mm3)  Metastatic Sites  \n",
       "587           45.000000                 0  \n",
       "589           47.570392                 0  \n",
       "591           49.880528                 0  \n",
       "593           53.442020                 0  \n",
       "595           54.657650                 1  "
      ]
     },
     "execution_count": 3,
     "metadata": {},
     "output_type": "execute_result"
    }
   ],
   "source": [
    "# Optional: Get all the data for the duplicate mouse ID. \n",
    "#print(\"Duplicate Rows based on 2 columns are:\", duplicateRowsDF, sep='\\n')\n",
    "duplicateRowsDF"
   ]
  },
  {
   "cell_type": "code",
   "execution_count": 4,
   "metadata": {},
   "outputs": [
    {
     "data": {
      "text/html": [
       "<div>\n",
       "<style scoped>\n",
       "    .dataframe tbody tr th:only-of-type {\n",
       "        vertical-align: middle;\n",
       "    }\n",
       "\n",
       "    .dataframe tbody tr th {\n",
       "        vertical-align: top;\n",
       "    }\n",
       "\n",
       "    .dataframe thead th {\n",
       "        text-align: right;\n",
       "    }\n",
       "</style>\n",
       "<table border=\"1\" class=\"dataframe\">\n",
       "  <thead>\n",
       "    <tr style=\"text-align: right;\">\n",
       "      <th></th>\n",
       "      <th>Mouse_ID</th>\n",
       "      <th>Drug Regimen</th>\n",
       "      <th>Sex</th>\n",
       "      <th>Age_months</th>\n",
       "      <th>Weight (g)</th>\n",
       "      <th>Timepoint</th>\n",
       "      <th>Tumor Volume (mm3)</th>\n",
       "      <th>Metastatic Sites</th>\n",
       "    </tr>\n",
       "  </thead>\n",
       "  <tbody>\n",
       "    <tr>\n",
       "      <th>586</th>\n",
       "      <td>g989</td>\n",
       "      <td>Propriva</td>\n",
       "      <td>Female</td>\n",
       "      <td>21</td>\n",
       "      <td>26</td>\n",
       "      <td>0</td>\n",
       "      <td>45.000000</td>\n",
       "      <td>0</td>\n",
       "    </tr>\n",
       "    <tr>\n",
       "      <th>587</th>\n",
       "      <td>g989</td>\n",
       "      <td>Propriva</td>\n",
       "      <td>Female</td>\n",
       "      <td>21</td>\n",
       "      <td>26</td>\n",
       "      <td>0</td>\n",
       "      <td>45.000000</td>\n",
       "      <td>0</td>\n",
       "    </tr>\n",
       "    <tr>\n",
       "      <th>588</th>\n",
       "      <td>g989</td>\n",
       "      <td>Propriva</td>\n",
       "      <td>Female</td>\n",
       "      <td>21</td>\n",
       "      <td>26</td>\n",
       "      <td>5</td>\n",
       "      <td>48.786801</td>\n",
       "      <td>0</td>\n",
       "    </tr>\n",
       "    <tr>\n",
       "      <th>589</th>\n",
       "      <td>g989</td>\n",
       "      <td>Propriva</td>\n",
       "      <td>Female</td>\n",
       "      <td>21</td>\n",
       "      <td>26</td>\n",
       "      <td>5</td>\n",
       "      <td>47.570392</td>\n",
       "      <td>0</td>\n",
       "    </tr>\n",
       "    <tr>\n",
       "      <th>590</th>\n",
       "      <td>g989</td>\n",
       "      <td>Propriva</td>\n",
       "      <td>Female</td>\n",
       "      <td>21</td>\n",
       "      <td>26</td>\n",
       "      <td>10</td>\n",
       "      <td>51.745156</td>\n",
       "      <td>0</td>\n",
       "    </tr>\n",
       "  </tbody>\n",
       "</table>\n",
       "</div>"
      ],
      "text/plain": [
       "    Mouse_ID Drug Regimen     Sex  Age_months  Weight (g)  Timepoint  \\\n",
       "586     g989     Propriva  Female          21          26          0   \n",
       "587     g989     Propriva  Female          21          26          0   \n",
       "588     g989     Propriva  Female          21          26          5   \n",
       "589     g989     Propriva  Female          21          26          5   \n",
       "590     g989     Propriva  Female          21          26         10   \n",
       "\n",
       "     Tumor Volume (mm3)  Metastatic Sites  \n",
       "586           45.000000                 0  \n",
       "587           45.000000                 0  \n",
       "588           48.786801                 0  \n",
       "589           47.570392                 0  \n",
       "590           51.745156                 0  "
      ]
     },
     "execution_count": 4,
     "metadata": {},
     "output_type": "execute_result"
    }
   ],
   "source": [
    "# Create a clean DataFrame by dropping the duplicate mouse by its ID.\n",
    "miceremoval = mousestud.loc[(mousestud)[\"Mouse_ID\"] == 'g989']\n",
    "miceremoval.head()\n"
   ]
  },
  {
   "cell_type": "code",
   "execution_count": 5,
   "metadata": {},
   "outputs": [
    {
     "data": {
      "text/html": [
       "<div>\n",
       "<style scoped>\n",
       "    .dataframe tbody tr th:only-of-type {\n",
       "        vertical-align: middle;\n",
       "    }\n",
       "\n",
       "    .dataframe tbody tr th {\n",
       "        vertical-align: top;\n",
       "    }\n",
       "\n",
       "    .dataframe thead th {\n",
       "        text-align: right;\n",
       "    }\n",
       "</style>\n",
       "<table border=\"1\" class=\"dataframe\">\n",
       "  <thead>\n",
       "    <tr style=\"text-align: right;\">\n",
       "      <th></th>\n",
       "      <th>Total # of Mice</th>\n",
       "    </tr>\n",
       "  </thead>\n",
       "  <tbody>\n",
       "    <tr>\n",
       "      <th>0</th>\n",
       "      <td>248</td>\n",
       "    </tr>\n",
       "  </tbody>\n",
       "</table>\n",
       "</div>"
      ],
      "text/plain": [
       "   Total # of Mice\n",
       "0              248"
      ]
     },
     "execution_count": 5,
     "metadata": {},
     "output_type": "execute_result"
    }
   ],
   "source": [
    "# Checking the number of mice in the clean DataFrame\n",
    "newmousestud = mousestud.loc[mousestud[\"Mouse_ID\"] != \"g989\"]\n",
    "newmice = len(newmousestud['Mouse_ID'].unique())\n",
    "\n",
    "newmice = pd.DataFrame({\"Total # of Mice\": [len(newmousestud.Mouse_ID.unique())]})\n",
    "newmice.head()"
   ]
  },
  {
   "cell_type": "markdown",
   "metadata": {},
   "source": [
    "## Summary Statistics"
   ]
  },
  {
   "cell_type": "code",
   "execution_count": 6,
   "metadata": {
    "scrolled": true
   },
   "outputs": [
    {
     "data": {
      "text/html": [
       "<div>\n",
       "<style scoped>\n",
       "    .dataframe tbody tr th:only-of-type {\n",
       "        vertical-align: middle;\n",
       "    }\n",
       "\n",
       "    .dataframe tbody tr th {\n",
       "        vertical-align: top;\n",
       "    }\n",
       "\n",
       "    .dataframe thead th {\n",
       "        text-align: right;\n",
       "    }\n",
       "</style>\n",
       "<table border=\"1\" class=\"dataframe\">\n",
       "  <thead>\n",
       "    <tr style=\"text-align: right;\">\n",
       "      <th></th>\n",
       "      <th>Trials</th>\n",
       "      <th>Tumor Volume Mean</th>\n",
       "      <th>Tumor Volume Median</th>\n",
       "      <th>Tumor Volume Variance</th>\n",
       "      <th>Tumor Volume Stand Deviation</th>\n",
       "      <th>Tumor Volume SEM</th>\n",
       "    </tr>\n",
       "    <tr>\n",
       "      <th>Drug Regimen</th>\n",
       "      <th></th>\n",
       "      <th></th>\n",
       "      <th></th>\n",
       "      <th></th>\n",
       "      <th></th>\n",
       "      <th></th>\n",
       "    </tr>\n",
       "  </thead>\n",
       "  <tbody>\n",
       "    <tr>\n",
       "      <th>Capomulin</th>\n",
       "      <td>230</td>\n",
       "      <td>40.675741</td>\n",
       "      <td>41.557809</td>\n",
       "      <td>24.947764</td>\n",
       "      <td>4.994774</td>\n",
       "      <td>0.329346</td>\n",
       "    </tr>\n",
       "    <tr>\n",
       "      <th>Ceftamin</th>\n",
       "      <td>178</td>\n",
       "      <td>52.591172</td>\n",
       "      <td>51.776157</td>\n",
       "      <td>39.290177</td>\n",
       "      <td>6.268188</td>\n",
       "      <td>0.469821</td>\n",
       "    </tr>\n",
       "    <tr>\n",
       "      <th>Infubinol</th>\n",
       "      <td>178</td>\n",
       "      <td>52.884795</td>\n",
       "      <td>51.820584</td>\n",
       "      <td>43.128684</td>\n",
       "      <td>6.567243</td>\n",
       "      <td>0.492236</td>\n",
       "    </tr>\n",
       "    <tr>\n",
       "      <th>Ketapril</th>\n",
       "      <td>188</td>\n",
       "      <td>55.235638</td>\n",
       "      <td>53.698743</td>\n",
       "      <td>68.553577</td>\n",
       "      <td>8.279709</td>\n",
       "      <td>0.603860</td>\n",
       "    </tr>\n",
       "    <tr>\n",
       "      <th>Naftisol</th>\n",
       "      <td>186</td>\n",
       "      <td>54.331565</td>\n",
       "      <td>52.509285</td>\n",
       "      <td>66.173479</td>\n",
       "      <td>8.134708</td>\n",
       "      <td>0.596466</td>\n",
       "    </tr>\n",
       "    <tr>\n",
       "      <th>Placebo</th>\n",
       "      <td>181</td>\n",
       "      <td>54.033581</td>\n",
       "      <td>52.288934</td>\n",
       "      <td>61.168083</td>\n",
       "      <td>7.821003</td>\n",
       "      <td>0.581331</td>\n",
       "    </tr>\n",
       "    <tr>\n",
       "      <th>Propriva</th>\n",
       "      <td>148</td>\n",
       "      <td>52.320930</td>\n",
       "      <td>50.446266</td>\n",
       "      <td>43.852013</td>\n",
       "      <td>6.622085</td>\n",
       "      <td>0.544332</td>\n",
       "    </tr>\n",
       "    <tr>\n",
       "      <th>Ramicane</th>\n",
       "      <td>228</td>\n",
       "      <td>40.216745</td>\n",
       "      <td>40.673236</td>\n",
       "      <td>23.486704</td>\n",
       "      <td>4.846308</td>\n",
       "      <td>0.320955</td>\n",
       "    </tr>\n",
       "    <tr>\n",
       "      <th>Stelasyn</th>\n",
       "      <td>181</td>\n",
       "      <td>54.233149</td>\n",
       "      <td>52.431737</td>\n",
       "      <td>59.450562</td>\n",
       "      <td>7.710419</td>\n",
       "      <td>0.573111</td>\n",
       "    </tr>\n",
       "    <tr>\n",
       "      <th>Zoniferol</th>\n",
       "      <td>182</td>\n",
       "      <td>53.236507</td>\n",
       "      <td>51.818479</td>\n",
       "      <td>48.533355</td>\n",
       "      <td>6.966589</td>\n",
       "      <td>0.516398</td>\n",
       "    </tr>\n",
       "  </tbody>\n",
       "</table>\n",
       "</div>"
      ],
      "text/plain": [
       "              Trials  Tumor Volume Mean  Tumor Volume Median  \\\n",
       "Drug Regimen                                                   \n",
       "Capomulin        230          40.675741            41.557809   \n",
       "Ceftamin         178          52.591172            51.776157   \n",
       "Infubinol        178          52.884795            51.820584   \n",
       "Ketapril         188          55.235638            53.698743   \n",
       "Naftisol         186          54.331565            52.509285   \n",
       "Placebo          181          54.033581            52.288934   \n",
       "Propriva         148          52.320930            50.446266   \n",
       "Ramicane         228          40.216745            40.673236   \n",
       "Stelasyn         181          54.233149            52.431737   \n",
       "Zoniferol        182          53.236507            51.818479   \n",
       "\n",
       "              Tumor Volume Variance  Tumor Volume Stand Deviation  \\\n",
       "Drug Regimen                                                        \n",
       "Capomulin                 24.947764                      4.994774   \n",
       "Ceftamin                  39.290177                      6.268188   \n",
       "Infubinol                 43.128684                      6.567243   \n",
       "Ketapril                  68.553577                      8.279709   \n",
       "Naftisol                  66.173479                      8.134708   \n",
       "Placebo                   61.168083                      7.821003   \n",
       "Propriva                  43.852013                      6.622085   \n",
       "Ramicane                  23.486704                      4.846308   \n",
       "Stelasyn                  59.450562                      7.710419   \n",
       "Zoniferol                 48.533355                      6.966589   \n",
       "\n",
       "              Tumor Volume SEM  \n",
       "Drug Regimen                    \n",
       "Capomulin             0.329346  \n",
       "Ceftamin              0.469821  \n",
       "Infubinol             0.492236  \n",
       "Ketapril              0.603860  \n",
       "Naftisol              0.596466  \n",
       "Placebo               0.581331  \n",
       "Propriva              0.544332  \n",
       "Ramicane              0.320955  \n",
       "Stelasyn              0.573111  \n",
       "Zoniferol             0.516398  "
      ]
     },
     "execution_count": 6,
     "metadata": {},
     "output_type": "execute_result"
    }
   ],
   "source": [
    "# Generate a summary statistics table of mean, median, variance, standard deviation, and SEM of the tumor volume for each regimen\n",
    "drugregi = newmousestud.groupby([\"Drug Regimen\"])\n",
    "\n",
    "#Drug Regimen Mean\n",
    "drugregmean = drugregi.mean()['Tumor Volume (mm3)']\n",
    "\n",
    "#Drug Regimen Median\n",
    "drugregmed = drugregi.median()['Tumor Volume (mm3)']\n",
    "\n",
    "#Drug Regimen Variance\n",
    "drugregvar = drugregi.var()['Tumor Volume (mm3)']\n",
    "\n",
    "#Drug Regimen Standard Deviation\n",
    "drugregstdv = drugregi.std()['Tumor Volume (mm3)']\n",
    "\n",
    "#Druge Regimen SEM\n",
    "drugregsem =  drugregi.sem()['Tumor Volume (mm3)']\n",
    "\n",
    "#Drug Regimen Count\n",
    "drugregcnt = drugregi.count()['Tumor Volume (mm3)']\n",
    "\n",
    "drugregi = pd.DataFrame({\"Tumor Volume Count\": drugregcnt,\n",
    "                         \"Tumor Volume Mean\": drugregmean,\n",
    "                         \"Tumor Volume Median\": drugregmed,\n",
    "                         \"Tumor Volume Variance\": drugregvar,\n",
    "                         \"Tumor Volume Stand Deviation\": drugregstdv,\n",
    "                         \"Tumor Volume SEM\": drugregsem})\n",
    "\n",
    "\n",
    "drugregi = drugregi.rename(columns = {\"Tumor Volume Count\" : \"Trials\"})\n",
    "\n",
    "drugregi.head(11)\n",
    "\n",
    "\n",
    "\n",
    "\n",
    "\n",
    "# This method is the most straightforward, creating multiple series and putting them all together at the end.\n",
    "#drugregi = pd.concat([drugregmean, drugregmed, drugregvar, drugregstdv, drugregsem], axis=1).reset_index()\n",
    "\n",
    "#drugregi = newmousestud.rename(columns={\"Drug Regimen\":\"Drug Regimen\", \"Tumor Vol Mean\":\"drugregmean\",\"Tumor Vol Var\":\"drugregmed\",\"Tumor Vol Std Dev\":\"drugregstdv\", \"Tumor Volume SEM\":\"drugregsem\"})\n",
    "\n",
    "\n"
   ]
  },
  {
   "cell_type": "code",
   "execution_count": null,
   "metadata": {
    "scrolled": true
   },
   "outputs": [],
   "source": [
    "\n",
    "\n"
   ]
  },
  {
   "cell_type": "code",
   "execution_count": null,
   "metadata": {},
   "outputs": [],
   "source": []
  },
  {
   "cell_type": "code",
   "execution_count": 7,
   "metadata": {},
   "outputs": [
    {
     "data": {
      "image/png": "[encoded data removed]",
      "text/plain": [
       "<Figure size 432x288 with 1 Axes>"
      ]
     },
     "metadata": {
      "needs_background": "light"
     },
     "output_type": "display_data"
    },
    {
     "data": {
      "text/plain": [
       "<Figure size 432x288 with 0 Axes>"
      ]
     },
     "metadata": {},
     "output_type": "display_data"
    }
   ],
   "source": [
    "# Generate a bar plot showing the number of mice per time point for each treatment throughout the course of the study using pamdas.\n",
    "\n",
    "#Filter the Dataframe to Columns To Chart\n",
    "datapoint = drugregi[[\"Trials\"]]\n",
    "\n",
    "#DataFrame Plot to Create Bar Chart\n",
    "datapoint.plot(kind=\"bar\", figsize=(6,4), color = \"b\", legend=False)\n",
    "\n",
    "#Title\n",
    "plt.title(\"Trials For Each Drug Regimen\")\n",
    "\n",
    "plt.show()\n",
    "\n",
    "#Per suggestion of Stackflow Review of Bar Chart\n",
    "plt.tight_layout()\n",
    "\n",
    "\n"
   ]
  },
  {
   "cell_type": "code",
   "execution_count": 8,
   "metadata": {},
   "outputs": [
    {
     "data": {
      "image/png": "[encoded data removed]",
      "text/plain": [
       "<Figure size 432x288 with 1 Axes>"
      ]
     },
     "metadata": {
      "needs_background": "light"
     },
     "output_type": "display_data"
    }
   ],
   "source": [
    "# Generate a bar plot showing the number of mice per time point for each treatment throughout the course of the study using pyplot.\n",
    "\n",
    "#Setup Bar Chart Value\n",
    "x_axis = np.arange(len(datapoint))\n",
    "\n",
    "#Create the Bar Chart \n",
    "plt.bar(x_axis, datapoint[\"Trials\"], color=\"b\", align=\"center\")\n",
    "tick_locations = [value for value in x_axis]\n",
    "plt.xticks(tick_locations, datapoint.index.values, rotation=\"vertical\")\n",
    "\n",
    "#Set the Limits for X and Y\n",
    "plt.xlim(-0.75, len(x_axis)-.25)\n",
    "plt.ylim(0, max(datapoint[\"Trials\"])+12)\n",
    "\n",
    "#Create the Chart Title and X and Y Labels\n",
    "plt.title(\"Trials For Each Drug Regimen\")\n",
    "plt.xlabel(\"Drug Regimen\")\n",
    "plt.ylabel(\"Number of Trials\")\n",
    "\n",
    "#Show Graphs\n",
    "plt.show()\n"
   ]
  },
  {
   "cell_type": "markdown",
   "metadata": {},
   "source": [
    "## Pie Plots"
   ]
  },
  {
   "cell_type": "code",
   "execution_count": 9,
   "metadata": {},
   "outputs": [
    {
     "data": {
      "text/html": [
       "<div>\n",
       "<style scoped>\n",
       "    .dataframe tbody tr th:only-of-type {\n",
       "        vertical-align: middle;\n",
       "    }\n",
       "\n",
       "    .dataframe tbody tr th {\n",
       "        vertical-align: top;\n",
       "    }\n",
       "\n",
       "    .dataframe thead th {\n",
       "        text-align: right;\n",
       "    }\n",
       "</style>\n",
       "<table border=\"1\" class=\"dataframe\">\n",
       "  <thead>\n",
       "    <tr style=\"text-align: right;\">\n",
       "      <th></th>\n",
       "      <th>Sex</th>\n",
       "    </tr>\n",
       "    <tr>\n",
       "      <th>Sex</th>\n",
       "      <th></th>\n",
       "    </tr>\n",
       "  </thead>\n",
       "  <tbody>\n",
       "    <tr>\n",
       "      <th>Female</th>\n",
       "      <td>922</td>\n",
       "    </tr>\n",
       "    <tr>\n",
       "      <th>Male</th>\n",
       "      <td>958</td>\n",
       "    </tr>\n",
       "  </tbody>\n",
       "</table>\n",
       "</div>"
      ],
      "text/plain": [
       "        Sex\n",
       "Sex        \n",
       "Female  922\n",
       "Male    958"
      ]
     },
     "execution_count": 9,
     "metadata": {},
     "output_type": "execute_result"
    }
   ],
   "source": [
    "# Generate a pie plot showing the distribution of female versus male mice using pandas\n",
    "\n",
    "#Groupby For Gender Configuration\n",
    "mouse_gender = newmousestud.groupby('Sex')\n",
    "\n",
    "#DataFrame Configuration\n",
    "mouse_gender_count = pd.DataFrame(mouse_gender['Sex'].count())\n",
    "                                \n",
    "mouse_gender_count.head()\n",
    "\n"
   ]
  },
  {
   "cell_type": "code",
   "execution_count": 12,
   "metadata": {},
   "outputs": [
    {
     "data": {
      "image/png": "[encoded data removed]",
      "text/plain": [
       "<Figure size 432x288 with 1 Axes>"
      ]
     },
     "metadata": {},
     "output_type": "display_data"
    }
   ],
   "source": [
    "# Generate a pie plot showing the distribution of female versus male mice using pandas\n",
    "\n",
    "mouse_gender_count.plot(kind='pie', y='Sex', \\\n",
    "                        title=\"Distribution of Female versus Male Mice\",startangle=140,\\\n",
    "                        autopct='%1.1f%%',shadow=True, fontsize=16, colors =[\"lightblue\",\"orange\"],legend=False)\n",
    "\n",
    "plt.axis(\"equal\")\n",
    "\n",
    "plt.show()\n"
   ]
  },
  {
   "cell_type": "code",
   "execution_count": 10,
   "metadata": {},
   "outputs": [
    {
     "data": {
      "image/png": "[encoded data removed]",
      "text/plain": [
       "<Figure size 432x288 with 1 Axes>"
      ]
     },
     "metadata": {},
     "output_type": "display_data"
    }
   ],
   "source": [
    "# Generate a pie plot showing the distribution of female versus male mice using pyplot\n",
    "\n",
    "#Labels for Pie Chart\n",
    "genders = list(mouse_gender_count.index.values)\n",
    "\n",
    "#Determine Counts/Values of Pie Chart Sectiom\n",
    "gender_counts = mouse_gender_count['Sex']  \n",
    "\n",
    "#Set Colors - Spent Too Much Tine on Shade of Blue\n",
    "colors = [\"lightblue\", \"orange\"]\n",
    "\n",
    "#Create the Pie Chart\n",
    "plt.pie(gender_counts, labels=genders, colors=colors,\n",
    "        autopct=\"%1.1f%%\", shadow=True, startangle=140)\n",
    "\n",
    "#Create Title, Label and Font So it can be Freaking Readable\n",
    "plt.title(\"Distribution of Female versus Male Mice\")\n",
    "plt.ylabel(\"Sex\")\n",
    "plt.rcParams['font.size'] = 20\n",
    "\n",
    "plt.show()\n",
    "\n"
   ]
  },
  {
   "cell_type": "markdown",
   "metadata": {},
   "source": [
    "## Quartiles, Outliers and Boxplots"
   ]
  },
  {
   "cell_type": "markdown",
   "metadata": {},
   "source": []
  },
  {
   "cell_type": "code",
   "execution_count": 11,
   "metadata": {},
   "outputs": [
    {
     "data": {
      "text/html": [
       "<div>\n",
       "<style scoped>\n",
       "    .dataframe tbody tr th:only-of-type {\n",
       "        vertical-align: middle;\n",
       "    }\n",
       "\n",
       "    .dataframe tbody tr th {\n",
       "        vertical-align: top;\n",
       "    }\n",
       "\n",
       "    .dataframe thead th {\n",
       "        text-align: right;\n",
       "    }\n",
       "</style>\n",
       "<table border=\"1\" class=\"dataframe\">\n",
       "  <thead>\n",
       "    <tr style=\"text-align: right;\">\n",
       "      <th></th>\n",
       "      <th>Mouse_ID</th>\n",
       "      <th>Drug Regimen</th>\n",
       "      <th>Sex</th>\n",
       "      <th>Age_months</th>\n",
       "      <th>Weight (g)</th>\n",
       "      <th>Timepoint</th>\n",
       "      <th>Tumor Volume (mm3)</th>\n",
       "      <th>Metastatic Sites</th>\n",
       "    </tr>\n",
       "  </thead>\n",
       "  <tbody>\n",
       "  </tbody>\n",
       "</table>\n",
       "</div>"
      ],
      "text/plain": [
       "Empty DataFrame\n",
       "Columns: [Mouse_ID, Drug Regimen, Sex, Age_months, Weight (g), Timepoint, Tumor Volume (mm3), Metastatic Sites]\n",
       "Index: []"
      ]
     },
     "execution_count": 11,
     "metadata": {},
     "output_type": "execute_result"
    }
   ],
   "source": [
    "# Calculate the final tumor volume of each mouse across four of the most promising treatment regimens: Capomulin, Ramicane, Infubinol, and Ceftamin. Calculate the quartiles and IQR and quantitatively determine if there are any potential outliers across all four treatment regimens.\n",
    "\n",
    "#Four Drug Examination List\n",
    "best_drug = newmousestud.loc[(newmousestud[\"Drug Regimen\"] == \"Capomulin\") | (newmousestud[\"Drug Regimen\"] == \"Ramicane\") | (newmousestud[\"Drug Regimen\"] == \"Ceftamin\") | (newmousestud[\"Drug Regimen\"] == \"Infubinol\"), :]\n",
    "\n",
    "#Combine Data DataFrame With Four Drugs\n",
    "four_drugs = newmousestud[newmousestud['Drug Regimen'].isin(best_drug)]\n",
    "\n",
    "#Quartiles\n",
    "quartiles = best_drug[\"Tumor Volume (mm3)\"].quantile([.25,.5,.75])\n",
    "lowerq = quartiles[0.25]\n",
    "upperq = quartiles[0.75]\n",
    "iqr = upperq-lowerq\n",
    "\n",
    "# Determine upper and lower bounds\n",
    "lower_bound = lowerq - (1.5*iqr)\n",
    "upper_bound = upperq + (1.5*iqr)\n",
    "\n",
    "#Outliers\n",
    "outliers_df = best_drug.loc[(best_drug['Tumor Volume (mm3)'] > upper_bound) | (best_drug['Tumor Volume (mm3)'] < lower_bound), :]\n",
    "outliers_df\n",
    "\n",
    "four_drugs.head()\n",
    "\n"
   ]
  },
  {
   "cell_type": "code",
   "execution_count": null,
   "metadata": {},
   "outputs": [],
   "source": []
  },
  {
   "cell_type": "code",
   "execution_count": 14,
   "metadata": {},
   "outputs": [
    {
     "data": {
      "image/png": "[encoded data removed]",
      "text/plain": [
       "<Figure size 432x288 with 1 Axes>"
      ]
     },
     "metadata": {
      "needs_background": "light"
     },
     "output_type": "display_data"
    }
   ],
   "source": [
    "# Generate a box plot of the final tumor volume of each mouse across four regimens of interest\n",
    "\n",
    "Tumor_Volume = best_drug['Tumor Volume (mm3)']\n",
    "fig1, ax1 = plt.subplots()\n",
    "ax1.set_title('Tumor Volume of Mice')\n",
    "ax1.set_ylabel('Tumor Volume')\n",
    "ax1.boxplot(Tumor_Volume)\n",
    "plt.show()\n"
   ]
  },
  {
   "cell_type": "markdown",
   "metadata": {},
   "source": [
    "## Line and Scatter Plots"
   ]
  },
  {
   "cell_type": "code",
   "execution_count": 13,
   "metadata": {},
   "outputs": [
    {
     "data": {
      "image/png": "[encoded data removed]",
      "text/plain": [
       "<Figure size 432x288 with 1 Axes>"
      ]
     },
     "metadata": {
      "needs_background": "light"
     },
     "output_type": "display_data"
    },
    {
     "data": {
      "text/html": [
       "<div>\n",
       "<style scoped>\n",
       "    .dataframe tbody tr th:only-of-type {\n",
       "        vertical-align: middle;\n",
       "    }\n",
       "\n",
       "    .dataframe tbody tr th {\n",
       "        vertical-align: top;\n",
       "    }\n",
       "\n",
       "    .dataframe thead th {\n",
       "        text-align: right;\n",
       "    }\n",
       "</style>\n",
       "<table border=\"1\" class=\"dataframe\">\n",
       "  <thead>\n",
       "    <tr style=\"text-align: right;\">\n",
       "      <th></th>\n",
       "      <th>Mouse_ID</th>\n",
       "      <th>Drug Regimen</th>\n",
       "      <th>Sex</th>\n",
       "      <th>Age_months</th>\n",
       "      <th>Weight (g)</th>\n",
       "      <th>Timepoint</th>\n",
       "      <th>Tumor Volume (mm3)</th>\n",
       "      <th>Metastatic Sites</th>\n",
       "    </tr>\n",
       "  </thead>\n",
       "  <tbody>\n",
       "    <tr>\n",
       "      <th>174</th>\n",
       "      <td>b128</td>\n",
       "      <td>Capomulin</td>\n",
       "      <td>Female</td>\n",
       "      <td>9</td>\n",
       "      <td>22</td>\n",
       "      <td>0</td>\n",
       "      <td>45.000000</td>\n",
       "      <td>0</td>\n",
       "    </tr>\n",
       "    <tr>\n",
       "      <th>175</th>\n",
       "      <td>b128</td>\n",
       "      <td>Capomulin</td>\n",
       "      <td>Female</td>\n",
       "      <td>9</td>\n",
       "      <td>22</td>\n",
       "      <td>5</td>\n",
       "      <td>45.651331</td>\n",
       "      <td>0</td>\n",
       "    </tr>\n",
       "    <tr>\n",
       "      <th>176</th>\n",
       "      <td>b128</td>\n",
       "      <td>Capomulin</td>\n",
       "      <td>Female</td>\n",
       "      <td>9</td>\n",
       "      <td>22</td>\n",
       "      <td>10</td>\n",
       "      <td>43.270852</td>\n",
       "      <td>0</td>\n",
       "    </tr>\n",
       "    <tr>\n",
       "      <th>177</th>\n",
       "      <td>b128</td>\n",
       "      <td>Capomulin</td>\n",
       "      <td>Female</td>\n",
       "      <td>9</td>\n",
       "      <td>22</td>\n",
       "      <td>15</td>\n",
       "      <td>43.784893</td>\n",
       "      <td>0</td>\n",
       "    </tr>\n",
       "    <tr>\n",
       "      <th>178</th>\n",
       "      <td>b128</td>\n",
       "      <td>Capomulin</td>\n",
       "      <td>Female</td>\n",
       "      <td>9</td>\n",
       "      <td>22</td>\n",
       "      <td>20</td>\n",
       "      <td>42.731552</td>\n",
       "      <td>0</td>\n",
       "    </tr>\n",
       "  </tbody>\n",
       "</table>\n",
       "</div>"
      ],
      "text/plain": [
       "    Mouse_ID Drug Regimen     Sex  Age_months  Weight (g)  Timepoint  \\\n",
       "174     b128    Capomulin  Female           9          22          0   \n",
       "175     b128    Capomulin  Female           9          22          5   \n",
       "176     b128    Capomulin  Female           9          22         10   \n",
       "177     b128    Capomulin  Female           9          22         15   \n",
       "178     b128    Capomulin  Female           9          22         20   \n",
       "\n",
       "     Tumor Volume (mm3)  Metastatic Sites  \n",
       "174           45.000000                 0  \n",
       "175           45.651331                 0  \n",
       "176           43.270852                 0  \n",
       "177           43.784893                 0  \n",
       "178           42.731552                 0  "
      ]
     },
     "execution_count": 13,
     "metadata": {},
     "output_type": "execute_result"
    }
   ],
   "source": [
    "# Generate a line plot of time point versus tumor volume for a mouse treated with Capomulin\n",
    "Capomulin_df = newmousestud.loc[(newmousestud['Drug Regimen'] == 'Capomulin') | (newmousestud['Mouse_ID'] == \"b128\")]\n",
    "\n",
    "#Configure Variables for Data\n",
    "timepoint = Capomulin_df[\"Timepoint\"]\n",
    "tumor_volume = Capomulin_df[\"Tumor Volume (mm3)\"]\n",
    "\n",
    "#Variables for mouse\n",
    "tumor_vol_line, = plt.plot(timepoint,tumor_volume)\n",
    "\n",
    "#Chart With Labels\n",
    "plt.xlabel('Timepoint')\n",
    "plt.ylabel('Mouse_ID')\n",
    "plt.title('Tumor Volume over Time for Mouse')\n",
    "plt.show()\n",
    "\n",
    "\n",
    "    \n",
    "Capomulin_df.head()\n",
    "\n",
    "                                 \n",
    "                            "
   ]
  },
  {
   "cell_type": "code",
   "execution_count": 14,
   "metadata": {},
   "outputs": [
    {
     "data": {
      "image/png": "[encoded data removed]",
      "text/plain": [
       "<Figure size 432x288 with 1 Axes>"
      ]
     },
     "metadata": {
      "needs_background": "light"
     },
     "output_type": "display_data"
    }
   ],
   "source": [
    "# Generate a scatter plot of mouse weight versus average tumor volume for the Capomulin regimen\n",
    "\n",
    "#Determine Values for Mouse Weight and Tumor Volume Averages (Mean)\n",
    "mouse_weight = Capomulin_df.groupby(Capomulin_df[\"Mouse_ID\"])[\"Weight (g)\"].mean()\n",
    "tumor_volume = Capomulin_df.groupby(Capomulin_df[\"Mouse_ID\"])[\"Tumor Volume (mm3)\"].mean()\n",
    "\n",
    "# Scatter Plot Per Data\n",
    "plt.scatter(mouse_weight,tumor_volume)\n",
    "plt.xlabel(\"Mouse Weight\")\n",
    "plt.ylabel(\"Tumor Volume\")\n",
    "plt.show()\n",
    "\n"
   ]
  },
  {
   "cell_type": "markdown",
   "metadata": {},
   "source": [
    "## Correlation and Regression"
   ]
  },
  {
   "cell_type": "code",
   "execution_count": 15,
   "metadata": {},
   "outputs": [
    {
     "data": {
      "image/png": "[encoded data removed]",
      "text/plain": [
       "<Figure size 432x288 with 1 Axes>"
      ]
     },
     "metadata": {
      "needs_background": "light"
     },
     "output_type": "display_data"
    },
    {
     "name": "stdout",
     "output_type": "stream",
     "text": [
      "The correlation coefficient between Mouse Weight and Tumor Volume is 0.84\n"
     ]
    }
   ],
   "source": [
    "# Calculate the correlation coefficient for mouse weight and average tumor volume for the Capomulin regimen\n",
    "mouse_weight = Capomulin_df.groupby(Capomulin_df[\"Mouse_ID\"])[\"Weight (g)\"].mean()\n",
    "tumor_volume = Capomulin_df.groupby(Capomulin_df[\"Mouse_ID\"])[\"Tumor Volume (mm3)\"].mean()\n",
    "\n",
    "plt.scatter(mouse_weight,tumor_volume)\n",
    "plt.xlabel(\"Mouse Weight\")\n",
    "plt.ylabel(\"Tumor Volume\")\n",
    "plt.xticks(mouse_weight, rotation=90)\n",
    "plt.show()\n",
    "\n",
    "\n",
    "\n",
    "print(f\"The correlation coefficient between Mouse Weight and Tumor Volume is {round(st.pearsonr(mouse_weight,tumor_volume)[0],2)}\")"
   ]
  },
  {
   "cell_type": "code",
   "execution_count": 16,
   "metadata": {},
   "outputs": [
    {
     "data": {
      "image/png": "[encoded data removed]",
      "text/plain": [
       "<Figure size 432x288 with 1 Axes>"
      ]
     },
     "metadata": {
      "needs_background": "light"
     },
     "output_type": "display_data"
    }
   ],
   "source": [
    "# Calculate the linear regression model for mouse weight and average tumor volume for the Capomulin regimen\n",
    "\n",
    "# Pull values for x and y values\n",
    "mouse_weight = Capomulin_df.groupby(Capomulin_df[\"Mouse_ID\"])[\"Weight (g)\"].mean()\n",
    "tumor_volume = Capomulin_df.groupby(Capomulin_df[\"Mouse_ID\"])[\"Tumor Volume (mm3)\"].mean()\n",
    "\n",
    "# Perform Line Regression of Mouse Weight vs Tumor Volume\n",
    "slope, int, r, p, std_err = st.linregress(mouse_weight, tumor_volume)\n",
    "      \n",
    "# Create equation for line to predict Tumor Volume - StackOverflow Research- Class Exercises Were Not Working for me\n",
    "fit = slope * mouse_weight + int\n",
    "\n",
    "# Plot the linear model on top of scatter plot \n",
    "plt.scatter(mouse_weight,tumor_volume)\n",
    "plt.xlabel(\"Mouse Weight\")\n",
    "plt.ylabel(\"Tumor Volume\")\n",
    "plt.plot(mouse_weight,fit,\"--\")\n",
    "plt.xticks(mouse_weight, rotation=90)\n",
    "plt.show()"
   ]
  }
 ],
 "metadata": {
  "anaconda-cloud": {},
  "kernelspec": {
   "display_name": "Python 3",
   "language": "python",
   "name": "python3"
  },
  "language_info": {
   "codemirror_mode": {
    "name": "ipython",
    "version": 3
   },
   "file_extension": ".py",
   "mimetype": "text/x-python",
   "name": "python",
   "nbconvert_exporter": "python",
   "pygments_lexer": "ipython3",
   "version": "3.7.6"
  }
 },
 "nbformat": 4,
 "nbformat_minor": 2
}
